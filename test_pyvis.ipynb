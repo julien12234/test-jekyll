{
 "cells": [
  {
   "cell_type": "code",
   "execution_count": 7,
   "id": "7a840b78-274f-44e3-a8a1-9402cf5a440d",
   "metadata": {},
   "outputs": [],
   "source": [
    "from pyvis.network import Network\n",
    "import networkx as nx\n",
    "import matplotlib.pyplot as plt"
   ]
  },
  {
   "cell_type": "code",
   "execution_count": 2,
   "id": "1a0b6c42-fa4e-409e-a3f0-11f461bd4893",
   "metadata": {},
   "outputs": [],
   "source": [
    "G=nx.Graph()\n",
    "G.add_edges_from([(1,2),(1,3)])\n",
    "G.add_nodes_from([1,2,3])"
   ]
  },
  {
   "cell_type": "code",
   "execution_count": 3,
   "id": "3f3cc0ca-8c2b-4593-bce2-a7c377d1bb17",
   "metadata": {},
   "outputs": [
    {
     "name": "stdout",
     "output_type": "stream",
     "text": [
      "Nodes: [1, 2, 3]\n",
      "Edges: [(1, 2), (1, 3)]\n"
     ]
    }
   ],
   "source": [
    "print(f'Nodes: {list(G.nodes)}')\n",
    "print(f'Edges: {list(G.edges)}')"
   ]
  },
  {
   "cell_type": "code",
   "execution_count": 6,
   "id": "b9097b0a-514b-4c6f-b59a-ef0824b0ceb6",
   "metadata": {},
   "outputs": [
    {
     "data": {
      "image/png": "[encoded data removed]",
      "text/plain": [
       "<Figure size 432x288 with 1 Axes>"
      ]
     },
     "metadata": {},
     "output_type": "display_data"
    }
   ],
   "source": [
    "nx.draw(G, with_labels=True)"
   ]
  },
  {
   "cell_type": "code",
   "execution_count": 11,
   "id": "e6d75358-4978-4972-a81a-fbbef8c5ed70",
   "metadata": {},
   "outputs": [
    {
     "data": {
      "text/html": [
       "\n",
       "        <iframe\n",
       "            width=\"500px\"\n",
       "            height=\"500px\"\n",
       "            src=\"example.html\"\n",
       "            frameborder=\"0\"\n",
       "            allowfullscreen\n",
       "            \n",
       "        ></iframe>\n",
       "        "
      ],
      "text/plain": [
       "<IPython.lib.display.IFrame at 0x1be97c92a90>"
      ]
     },
     "execution_count": 11,
     "metadata": {},
     "output_type": "execute_result"
    }
   ],
   "source": [
    "net=Network(notebook=True)\n",
    "net.from_nx(G)\n",
    "net.show(\"example.html\")"
   ]
  },
  {
   "cell_type": "code",
   "execution_count": 19,
   "id": "8afc10e7-56b7-4d63-a5d7-8d7b9add5fe8",
   "metadata": {},
   "outputs": [
    {
     "data": {
      "image/png": "[encoded data removed]",
      "text/plain": [
       "<Figure size 432x288 with 1 Axes>"
      ]
     },
     "metadata": {},
     "output_type": "display_data"
    }
   ],
   "source": [
    "DG=nx.DiGraph()\n",
    "DG.add_weighted_edges_from([(1,2,0.5),(3,1,2)])\n",
    "DG.out_degree(1, weight='weight')\n",
    "DG.degree(1,weight='weight')\n",
    "nx.draw(DG, with_labels=True)"
   ]
  },
  {
   "cell_type": "code",
   "execution_count": 56,
   "id": "7feeb2d0-81a9-4acc-b829-66fbca838190",
   "metadata": {},
   "outputs": [
    {
     "data": {
      "text/html": [
       "\n",
       "        <iframe\n",
       "            width=\"500px\"\n",
       "            height=\"500px\"\n",
       "            src=\"directed_graph.html\"\n",
       "            frameborder=\"0\"\n",
       "            allowfullscreen\n",
       "            \n",
       "        ></iframe>\n",
       "        "
      ],
      "text/plain": [
       "<IPython.lib.display.IFrame at 0x1be99dc8640>"
      ]
     },
     "execution_count": 56,
     "metadata": {},
     "output_type": "execute_result"
    }
   ],
   "source": [
    "net=Network(notebook=True)\n",
    "net.from_nx(DG)\n",
    "net.add_node(4,size=40)\n",
    "net.add_edge(4,1,weight=500)\n",
    "net.show(\"directed_graph.html\")"
   ]
  },
  {
   "cell_type": "code",
   "execution_count": 48,
   "id": "4b555d73-7265-4f56-a7ac-8bda867ee6e9",
   "metadata": {},
   "outputs": [
    {
     "data": {
      "text/plain": [
       "{'size': 10, 'id': 1, 'label': 1, 'shape': 'dot'}"
      ]
     },
     "execution_count": 48,
     "metadata": {},
     "output_type": "execute_result"
    }
   ],
   "source": [
    "net.get_node(1)"
   ]
  },
  {
   "cell_type": "code",
   "execution_count": 55,
   "id": "4759e196-a146-4eff-803f-1f482dc440f0",
   "metadata": {},
   "outputs": [],
   "source": [
    "from pyvis.network import Network\n",
    "import pandas as pd\n",
    "\n",
    "got_net = Network(height='750px', width='100%', bgcolor='#222222', font_color='white')\n",
    "\n",
    "# set the physics layout of the network\n",
    "got_net.barnes_hut()\n",
    "got_data = pd.read_csv('https://www.macalester.edu/~abeverid/data/stormofswords.csv')\n",
    "\n",
    "sources = got_data['Source']\n",
    "targets = got_data['Target']\n",
    "weights = got_data['Weight']\n",
    "\n",
    "edge_data = zip(sources, targets, weights)\n",
    "\n",
    "for e in edge_data:\n",
    "    src = e[0]\n",
    "    dst = e[1]\n",
    "    w = e[2]\n",
    "\n",
    "    got_net.add_node(src, src, title=src)\n",
    "    got_net.add_node(dst, dst, title=dst)\n",
    "    got_net.add_edge(src, dst, length=w)\n",
    "\n",
    "neighbor_map = got_net.get_adj_list()\n",
    "\n",
    "# add neighbor data to node hover data\n",
    "for node in got_net.nodes:\n",
    "    node['title'] += ' Neighbors:<br>' + '<br>'.join(neighbor_map[node['id']])\n",
    "    node['value'] = len(neighbor_map[node['id']])\n",
    "\n",
    "got_net.show('gameofthrones.html')"
   ]
  },
  {
   "cell_type": "code",
   "execution_count": null,
   "id": "363753d4-a0ef-4c41-b6c7-c472b925ec7b",
   "metadata": {},
   "outputs": [],
   "source": []
  }
 ],
 "metadata": {
  "kernelspec": {
   "display_name": "Python 3 (ipykernel)",
   "language": "python",
   "name": "python3"
  },
  "language_info": {
   "codemirror_mode": {
    "name": "ipython",
    "version": 3
   },
   "file_extension": ".py",
   "mimetype": "text/x-python",
   "name": "python",
   "nbconvert_exporter": "python",
   "pygments_lexer": "ipython3",
   "version": "3.8.12"
  }
 },
 "nbformat": 4,
 "nbformat_minor": 5
}
